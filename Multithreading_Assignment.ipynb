{
 "cells": [
  {
   "cell_type": "markdown",
   "id": "d5587c9e-2004-4533-bb91-f821fb97674a",
   "metadata": {},
   "source": [
    "**Q1. What is multithreading in python? Why is it used? Name the module used to handle threads in python**"
   ]
  },
  {
   "cell_type": "markdown",
   "id": "ba6f5474-386b-437d-a1b4-66ff19714914",
   "metadata": {},
   "source": [
    "It refers to the simultaneously execution of multiple threads within a single processes.\n",
    "\n",
    "Multithreading is used to achieve parallelism and improve performance in certain places. It is particularly useful in situations where there are tasks that can be executed independently and simultaneously.\n",
    "\n",
    "The module used to handle threads in Python is called \"threading.\""
   ]
  },
  {
   "cell_type": "code",
   "execution_count": null,
   "id": "574848dc-e606-401d-9b6c-12df5bd83594",
   "metadata": {},
   "outputs": [],
   "source": []
  },
  {
   "cell_type": "markdown",
   "id": "3189bcdc-4798-4e3b-86cc-032d54e4f556",
   "metadata": {},
   "source": [
    "**Q2. Why threading module used? write the use of the following functions**:\n",
    "\n",
    "1. activeCount()\n",
    "2. currentThread()\n",
    "3. enumerate()"
   ]
  },
  {
   "cell_type": "markdown",
   "id": "a483d1c9-5618-4632-8ded-6d8d5ac71903",
   "metadata": {},
   "source": [
    "The threading module is used for managing and creating threads in a concurrent program.\n",
    "The use of the following functions:\n",
    "\n",
    "1. **activeCount()**: It is used to obtain the number of currently active Thread objects in the program.\n",
    "\n",
    "2. **currentThread()**: It returns the Thread object representing the current thread.\n",
    "\n",
    "3. **enumerate()**: It returns a list of all active Thread objects currently alive in the program. "
   ]
  },
  {
   "cell_type": "code",
   "execution_count": null,
   "id": "64dab298-da1e-4fcb-b294-0b1152a9d4e9",
   "metadata": {},
   "outputs": [],
   "source": []
  },
  {
   "cell_type": "markdown",
   "id": "4d9049d9-4019-492f-8789-27527b7bfab6",
   "metadata": {},
   "source": [
    "**Q3. Explain the following functions**:\n",
    "1. run()\n",
    "2. start()\n",
    "3. join()\n",
    "4. isAlive()"
   ]
  },
  {
   "cell_type": "markdown",
   "id": "fd6a8840-e3c1-4dab-a502-d0bdf7bbb102",
   "metadata": {},
   "source": [
    "1. **run()**: It is called when a thread's start() method is invoked. \n",
    "\n",
    "2. **start()**: It is used to begin the execution of a thread. \n",
    "\n",
    "3. **join()**: It is used to synchronize the execution of multiple threads. \n",
    "\n",
    "4. **isAlive()**: It used to check if a thread is currently running or active. It returns a boolean value indicating whether the thread is still executing or has completed."
   ]
  },
  {
   "cell_type": "code",
   "execution_count": null,
   "id": "0e8c6de1-5b45-4726-975e-1378a62cb7ba",
   "metadata": {},
   "outputs": [],
   "source": []
  },
  {
   "cell_type": "code",
   "execution_count": null,
   "id": "58663629-aa7d-4050-b3d2-c7d48ad8730a",
   "metadata": {},
   "outputs": [],
   "source": []
  },
  {
   "cell_type": "markdown",
   "id": "c97f863b-dfb1-43f1-a624-cc69a91b9bd6",
   "metadata": {},
   "source": [
    "**Q4. Write a python program to create two threads. Thread one must print the list of squares and thread\n",
    "two must print the list of cubes.**"
   ]
  },
  {
   "cell_type": "code",
   "execution_count": 24,
   "id": "1909a765-f5f7-45fb-987e-04933eeea168",
   "metadata": {},
   "outputs": [
    {
     "name": "stdout",
     "output_type": "stream",
     "text": [
      "1\n",
      "4\n",
      "9\n",
      "16\n",
      "25\n",
      "36\n",
      "49\n",
      "64\n",
      "81\n",
      "100\n",
      "1\n",
      "8\n",
      "27\n",
      "64\n",
      "125\n",
      "216\n",
      "343\n",
      "512\n",
      "729\n",
      "1000\n"
     ]
    }
   ],
   "source": [
    "import threading\n",
    "\n",
    "def square(x):\n",
    "    squares = x ** 2\n",
    "    print(f\"{squares}\")\n",
    "\n",
    "def cubes(x):\n",
    "    cube = x ** 3\n",
    "    print(f\"{cube}\")\n",
    "    \n",
    "\n",
    "thread1 = [threading.Thread(target=square, args=(i,)) for i in range(1,11)]\n",
    "\n",
    "thread2 = [threading.Thread(target=cubes, args=(i,)) for i in range(1,11)]\n",
    "\n",
    "\n",
    "for t in thread1 + thread2:\n",
    "    t.start()"
   ]
  },
  {
   "cell_type": "code",
   "execution_count": null,
   "id": "e408e805-2f5c-44b6-84ac-a2075938ec2c",
   "metadata": {},
   "outputs": [],
   "source": []
  },
  {
   "cell_type": "markdown",
   "id": "fb366330-d410-4df7-81d7-5661946c3a9d",
   "metadata": {},
   "source": [
    "**Q5. State advantages and disadvantages of multithreading.**"
   ]
  },
  {
   "cell_type": "markdown",
   "id": "c2a583ae-da77-4bac-b92e-c330aa2d8560",
   "metadata": {},
   "source": [
    "**Advantages**:\n",
    "\n",
    "1. Multithreading allows for concurrent execution of multiple threads, which can lead to improved performance and faster completion of tasks.\n",
    "\n",
    "2. It can enhance the responsiveness of an application or system.\n",
    "\n",
    "3. Threads within a process share the same memory space, allowing for efficient sharing of data and resources.\n",
    "\n",
    "**Disadvantages**:\n",
    "\n",
    "1. Multithreaded programming introduces complexity due to the need for synchronization and coordination between threads. \n",
    "\n",
    "2. Debugging multithreaded programs can be more challenging compared to single-threaded programs. \n",
    "\n",
    "3. The scalability of multithreaded applications may be limited"
   ]
  },
  {
   "cell_type": "code",
   "execution_count": null,
   "id": "1ebf1b80-d4ec-4a13-8674-e0762ac30625",
   "metadata": {},
   "outputs": [],
   "source": []
  },
  {
   "cell_type": "markdown",
   "id": "a4311990-e9bd-401d-931d-dc51a01a692c",
   "metadata": {},
   "source": [
    "**Q6. Explain deadlocks and race conditions.**"
   ]
  },
  {
   "cell_type": "markdown",
   "id": "7b689d99-c60e-40d4-8ba7-7aaaf26001d5",
   "metadata": {},
   "source": [
    "**Deadlock**: It occurs when two or more threads are stuck and unable to proceed because each waiting for a resource that another thread holds.\n",
    "\n",
    "It typically occrus due to the following conditions:\n",
    "\n",
    "1. At least one resource is non-sharable and can only be held by one thread at a time.\n",
    "\n",
    "2. A thread holds a resource while waiting for another resource.\n",
    "\n",
    "3. Resources cannot be forcibly taken from a thread; they must be released voluntarily.\n",
    "\n",
    "**race**: It occurs when the behavior of a program depends on the relative execution order of threads.\n",
    "\n",
    "Race conditions typically happen when:\n",
    "\n",
    "1. Multiple threads access shared data simultaneously.\n",
    "\n",
    "2. At least one thread performs a write operation on the shared data.\n",
    "\n",
    "3. The access and modification operations are not properly synchronized."
   ]
  }
 ],
 "metadata": {
  "kernelspec": {
   "display_name": "Python 3 (ipykernel)",
   "language": "python",
   "name": "python3"
  },
  "language_info": {
   "codemirror_mode": {
    "name": "ipython",
    "version": 3
   },
   "file_extension": ".py",
   "mimetype": "text/x-python",
   "name": "python",
   "nbconvert_exporter": "python",
   "pygments_lexer": "ipython3",
   "version": "3.10.8"
  }
 },
 "nbformat": 4,
 "nbformat_minor": 5
}
